{
 "cells": [
  {
   "cell_type": "markdown",
   "metadata": {
    "application/vnd.databricks.v1+cell": {
     "cellMetadata": {},
     "inputWidgets": {},
     "nuid": "4477022e-7ffb-430d-9692-03ce569b1051",
     "showTitle": false,
     "title": ""
    }
   },
   "source": [
    "# Installs"
   ]
  },
  {
   "cell_type": "code",
   "execution_count": null,
   "metadata": {
    "application/vnd.databricks.v1+cell": {
     "cellMetadata": {},
     "inputWidgets": {},
     "nuid": "f0d460c6-797d-49aa-9642-471881764a80",
     "showTitle": false,
     "title": ""
    }
   },
   "outputs": [],
   "source": [
    "!pip install opencv-python\n",
    "# !pip install prettytable\n",
    "!sudo apt install tesseract-ocr --yes\n",
    "!pip install pytesseract"
   ]
  },
  {
   "cell_type": "code",
   "execution_count": null,
   "metadata": {
    "application/vnd.databricks.v1+cell": {
     "cellMetadata": {},
     "inputWidgets": {},
     "nuid": "af0bda7e-85b4-444d-90cb-d0a477b44b0b",
     "showTitle": false,
     "title": ""
    }
   },
   "outputs": [],
   "source": [
    "!sudo apt install tesseract-ocr-heb --yes"
   ]
  },
  {
   "cell_type": "markdown",
   "metadata": {
    "application/vnd.databricks.v1+cell": {
     "cellMetadata": {},
     "inputWidgets": {},
     "nuid": "892c0e4f-5511-46a5-b7ca-c26f860d2f36",
     "showTitle": false,
     "title": ""
    }
   },
   "source": [
    "# Imports + Global Configurations"
   ]
  },
  {
   "cell_type": "code",
   "execution_count": null,
   "metadata": {
    "application/vnd.databricks.v1+cell": {
     "cellMetadata": {},
     "inputWidgets": {},
     "nuid": "642e098a-f1ac-4d62-a1af-c49367c9c848",
     "showTitle": false,
     "title": ""
    }
   },
   "outputs": [],
   "source": [
    "import numpy as np\n",
    "import pandas as pd\n",
    "import matplotlib.pyplot as plt\n",
    "import cv2\n",
    "import PIL\n",
    "import pytesseract\n",
    "import os"
   ]
  },
  {
   "cell_type": "code",
   "execution_count": null,
   "metadata": {
    "application/vnd.databricks.v1+cell": {
     "cellMetadata": {},
     "inputWidgets": {},
     "nuid": "d21f8e23-15a1-4f88-92fe-bc35f1530f1b",
     "showTitle": false,
     "title": ""
    }
   },
   "outputs": [],
   "source": [
    "print(pytesseract.get_tesseract_version())\n",
    "print(pytesseract.get_languages())"
   ]
  },
  {
   "cell_type": "code",
   "execution_count": null,
   "metadata": {
    "application/vnd.databricks.v1+cell": {
     "cellMetadata": {},
     "inputWidgets": {},
     "nuid": "f29fe854-2080-47c6-b570-9e23a3cbc6a8",
     "showTitle": false,
     "title": ""
    }
   },
   "outputs": [],
   "source": [
    "os.environ['TESSDATA_PREFIX'] = 'Extract Tabular Data/tessdata_dir/'"
   ]
  },
  {
   "cell_type": "code",
   "execution_count": null,
   "metadata": {
    "application/vnd.databricks.v1+cell": {
     "cellMetadata": {},
     "inputWidgets": {},
     "nuid": "b137f5a1-855a-4c1f-abfb-34ef15a36fa3",
     "showTitle": false,
     "title": ""
    }
   },
   "outputs": [],
   "source": [
    "\"\"\"\n",
    "Best Rsults: --psm 12 --oem 1\n",
    "History:\n",
    " 8) --psm 12 --oem 1 --dpi 3000         -> eng 80%\n",
    " 7) --psm 12 --oem 2                    -> eng 90%, heb 78%-10%+5% -> ',' and '.' it cant decide between the two\n",
    " 6) --psm 12 --oem 1                    -> eng 95%, heb 78%-10%+5% -> ',' and '.' it cant decide between the two\n",
    " 5) --psm 12 --oem 0                    -> eng 85%\n",
    " 4) --psm 12                            -> eng 90%, heb 75%-15+3%%\n",
    " 3) --psm 6                             -> 40%\n",
    " 2) --psm 5                             -> 10% \n",
    " 1) --psm 11                            -> eng 85%, heb 70%+-15%\n",
    "URL: https://muthu.co/all-tesseract-ocr-options/\n",
    "\"\"\"\n",
    "special_config = '--psm 12 --oem 1'\n",
    "languages_ = \"eng\""
   ]
  },
  {
   "cell_type": "markdown",
   "metadata": {
    "application/vnd.databricks.v1+cell": {
     "cellMetadata": {},
     "inputWidgets": {},
     "nuid": "38b68239-d9cd-4cca-8f76-fe265be1ccf1",
     "showTitle": false,
     "title": ""
    }
   },
   "source": [
    "# Image Loading - OpenCV + PIL"
   ]
  },
  {
   "cell_type": "code",
   "execution_count": null,
   "metadata": {
    "application/vnd.databricks.v1+cell": {
     "cellMetadata": {},
     "inputWidgets": {},
     "nuid": "9f33aa03-c900-4ed1-af81-9d43d56b9100",
     "showTitle": false,
     "title": ""
    }
   },
   "outputs": [],
   "source": [
    "image_path = \"Model Implementation/DummyDatabase/predictions/image_crop.png\""
   ]
  },
  {
   "cell_type": "code",
   "execution_count": null,
   "metadata": {
    "application/vnd.databricks.v1+cell": {
     "cellMetadata": {},
     "inputWidgets": {},
     "nuid": "be2c70f4-3625-445a-911e-f556e68417dc",
     "showTitle": false,
     "title": ""
    }
   },
   "outputs": [],
   "source": [
    "img_cv=cv2.imread(image_path)\n",
    "plt.figure(figsize = (7.5, 5))\n",
    "plt.imshow(img_cv)\n",
    "plt.show()"
   ]
  },
  {
   "cell_type": "code",
   "execution_count": null,
   "metadata": {
    "application/vnd.databricks.v1+cell": {
     "cellMetadata": {},
     "inputWidgets": {},
     "nuid": "ecf2c372-dffb-4a2e-8dbd-3150d37f9f7b",
     "showTitle": false,
     "title": ""
    }
   },
   "outputs": [],
   "source": [
    "img_pl=PIL.Image.open(image_path)\n",
    "img_pl"
   ]
  },
  {
   "cell_type": "markdown",
   "metadata": {
    "application/vnd.databricks.v1+cell": {
     "cellMetadata": {},
     "inputWidgets": {},
     "nuid": "db6ca716-e03d-495e-9a92-0c9fccd4aa19",
     "showTitle": false,
     "title": ""
    }
   },
   "source": [
    "# pytesseract.image_to_string"
   ]
  },
  {
   "cell_type": "code",
   "execution_count": null,
   "metadata": {
    "application/vnd.databricks.v1+cell": {
     "cellMetadata": {},
     "inputWidgets": {},
     "nuid": "518d0d21-7111-4e11-9d42-82603649ca9d",
     "showTitle": false,
     "title": ""
    }
   },
   "outputs": [],
   "source": [
    "text_cv=pytesseract.image_to_string(img_cv,lang=\"heb+eng\", config=special_config)\n",
    "text_pl=pytesseract.image_to_string(img_pl,lang=\"eng\", config=special_config)"
   ]
  },
  {
   "cell_type": "code",
   "execution_count": null,
   "metadata": {
    "application/vnd.databricks.v1+cell": {
     "cellMetadata": {},
     "inputWidgets": {},
     "nuid": "7ef13e34-7000-4e4f-9072-f93b215a27c1",
     "showTitle": false,
     "title": ""
    }
   },
   "outputs": [],
   "source": [
    "len(text_cv), len(text_pl)"
   ]
  },
  {
   "cell_type": "code",
   "execution_count": null,
   "metadata": {
    "application/vnd.databricks.v1+cell": {
     "cellMetadata": {},
     "inputWidgets": {},
     "nuid": "2b35a15a-9eb6-4969-8102-120b6e576fa5",
     "showTitle": false,
     "title": ""
    }
   },
   "outputs": [],
   "source": [
    "text_pl"
   ]
  },
  {
   "cell_type": "code",
   "execution_count": null,
   "metadata": {
    "application/vnd.databricks.v1+cell": {
     "cellMetadata": {},
     "inputWidgets": {},
     "nuid": "39658f1c-38d3-4b57-90de-b4c3c46d3d81",
     "showTitle": false,
     "title": ""
    }
   },
   "outputs": [],
   "source": [
    "text_pl_copy = text_pl.replace('\\n\\n', '<br>')#.replace('\\n', '\\t').replace('<br>', '\\n')\n",
    "# text_pl_copy = re.sub(r'\\n+', '\\n', text_pl_copy)\n",
    "# text_pl_copy = [[w.strip().replace('|', '').replace('[', '').replace('(', '') for w in t.split('\\t') if len(w.strip()) > 1] for t in text_pl_copy.split('\\n')]\n",
    "# len(text_pl_copy)#, len(text_pl_copy[0]), len(text_pl_copy[1]), len(text_pl_copy[2]), len(text_pl_copy[3])\n",
    "text_pl_copy"
   ]
  },
  {
   "cell_type": "code",
   "execution_count": null,
   "metadata": {
    "application/vnd.databricks.v1+cell": {
     "cellMetadata": {},
     "inputWidgets": {},
     "nuid": "6dfc5403-a743-4799-b986-0e803e3d6189",
     "showTitle": false,
     "title": ""
    }
   },
   "outputs": [],
   "source": [
    "text_pl"
   ]
  },
  {
   "cell_type": "markdown",
   "metadata": {
    "application/vnd.databricks.v1+cell": {
     "cellMetadata": {},
     "inputWidgets": {},
     "nuid": "25d9bd31-bd69-4b1f-af27-1a83af7f9988",
     "showTitle": false,
     "title": ""
    }
   },
   "source": [
    "# pytesseract.image_to_data"
   ]
  },
  {
   "cell_type": "code",
   "execution_count": null,
   "metadata": {
    "application/vnd.databricks.v1+cell": {
     "cellMetadata": {},
     "inputWidgets": {},
     "nuid": "a0d0d76a-4353-425c-adb3-d03b45de0100",
     "showTitle": false,
     "title": ""
    }
   },
   "outputs": [],
   "source": [
    "data = pytesseract.image_to_data(img_pl, lang=languages_, output_type='data.frame', config=special_config)\n",
    "data"
   ]
  },
  {
   "cell_type": "markdown",
   "metadata": {
    "application/vnd.databricks.v1+cell": {
     "cellMetadata": {},
     "inputWidgets": {},
     "nuid": "82449b43-a1ad-4f02-b8de-9d7e6fb18591",
     "showTitle": false,
     "title": ""
    }
   },
   "source": [
    "# Optimize the `df`\n",
    "\n",
    "##### Take only the following [\"left\", \"top\", \"width\", \"text\"]\n",
    "##### Sum `left` and `width`\n",
    "##### Sort + Dropna"
   ]
  },
  {
   "cell_type": "code",
   "execution_count": null,
   "metadata": {
    "application/vnd.databricks.v1+cell": {
     "cellMetadata": {},
     "inputWidgets": {},
     "nuid": "7f372d58-3a5e-487c-b26a-d417cf86ffa0",
     "showTitle": false,
     "title": ""
    }
   },
   "outputs": [],
   "source": [
    "def optimizeDf(old_df: pd.DataFrame) -> pd.DataFrame:\n",
    "    df = old_df[[\"left\", \"top\", \"width\", \"text\"]]\n",
    "    df['left+width'] = df['left'] + df['width']\n",
    "    df = df.sort_values(by=['top'], ascending=True)\n",
    "    df = df.groupby(['top', 'left+width'], sort=False)['text'].sum().unstack('left+width')\n",
    "    df = df.reindex(sorted(df.columns), axis=1).dropna(how='all').dropna(axis='columns', how='all')\n",
    "    df = df.fillna('')\n",
    "    return df\n",
    "data_imp_sort = optimizeDf(data)\n",
    "data_imp_sort"
   ]
  },
  {
   "cell_type": "markdown",
   "metadata": {
    "application/vnd.databricks.v1+cell": {
     "cellMetadata": {},
     "inputWidgets": {},
     "nuid": "8bb9019e-2c13-4920-a8ea-75c978ac5f76",
     "showTitle": false,
     "title": ""
    }
   },
   "source": [
    "# Merge Columns"
   ]
  },
  {
   "cell_type": "code",
   "execution_count": null,
   "metadata": {
    "application/vnd.databricks.v1+cell": {
     "cellMetadata": {},
     "inputWidgets": {},
     "nuid": "a1ac4146-afe8-4557-8fe3-da12d5d8e2e7",
     "showTitle": false,
     "title": ""
    }
   },
   "outputs": [],
   "source": [
    "def mergeDfColumns(old_df: pd.DataFrame, threshold: int = 10, rotations: int = 5) -> pd.DataFrame: # threshold was 10\n",
    "  df = old_df.copy()\n",
    "  for j in range(0, rotations):\n",
    "    new_columns = {}\n",
    "    old_columns = df.columns\n",
    "    i = 0\n",
    "    while i < len(old_columns):\n",
    "      if i < len(old_columns) - 1:\n",
    "        if any(old_columns[i+1] == old_columns[i] + x for x in range(1, threshold)):\n",
    "          new_col = df[old_columns[i]].astype(str) + df[old_columns[i+1]].astype(str)\n",
    "          new_columns[old_columns[i+1]] = new_col\n",
    "          i = i + 1\n",
    "        else:\n",
    "          new_columns[old_columns[i]] = df[old_columns[i]]\n",
    "      else:\n",
    "        new_columns[old_columns[i]] = df[old_columns[i]]\n",
    "      i += 1\n",
    "    df = pd.DataFrame.from_dict(new_columns).replace('', np.nan).dropna(axis='columns', how='all').replace(np.nan, '')\n",
    "  return df"
   ]
  },
  {
   "cell_type": "code",
   "execution_count": null,
   "metadata": {
    "application/vnd.databricks.v1+cell": {
     "cellMetadata": {},
     "inputWidgets": {},
     "nuid": "9dcdc6fc-8a55-479b-b8d0-854d8867b672",
     "showTitle": false,
     "title": ""
    }
   },
   "outputs": [],
   "source": [
    "df_new_col = mergeDfColumns(data_imp_sort) # 9 col x 7 row\n",
    "df_new_col"
   ]
  },
  {
   "cell_type": "markdown",
   "metadata": {
    "application/vnd.databricks.v1+cell": {
     "cellMetadata": {},
     "inputWidgets": {},
     "nuid": "0658e07b-dc23-4cbb-b6bc-acc894b6c373",
     "showTitle": false,
     "title": ""
    }
   },
   "source": [
    "# Merge Rows"
   ]
  },
  {
   "cell_type": "code",
   "execution_count": null,
   "metadata": {
    "application/vnd.databricks.v1+cell": {
     "cellMetadata": {},
     "inputWidgets": {},
     "nuid": "a53dc628-baa5-4867-a812-4947bb3810f3",
     "showTitle": false,
     "title": ""
    }
   },
   "outputs": [],
   "source": [
    "df_new_rows = df_new_col.copy()"
   ]
  },
  {
   "cell_type": "code",
   "execution_count": null,
   "metadata": {
    "application/vnd.databricks.v1+cell": {
     "cellMetadata": {},
     "inputWidgets": {},
     "nuid": "52700c3c-ca84-4b3d-8041-7c53f4bd56bd",
     "showTitle": false,
     "title": ""
    }
   },
   "outputs": [],
   "source": [
    "def mergeDfRows(old_df: pd.DataFrame, threshold: int = 10) -> pd.DataFrame:\n",
    "    new_df = old_df.iloc[:1]\n",
    "    for i in range(1, len(old_df)):\n",
    "        if abs(old_df.index[i] - old_df.index[i - 1]) < threshold:\n",
    "            new_df.iloc[-1] = new_df.iloc[-1].astype(str) + old_df.iloc[i].astype(str)\n",
    "        else:\n",
    "            new_df = new_df.append(old_df.iloc[i])\n",
    "    return new_df.reset_index(drop=True)"
   ]
  },
  {
   "cell_type": "code",
   "execution_count": null,
   "metadata": {
    "application/vnd.databricks.v1+cell": {
     "cellMetadata": {},
     "inputWidgets": {},
     "nuid": "0c621ab2-901b-48ad-9665-ccf1ef824473",
     "showTitle": false,
     "title": ""
    }
   },
   "outputs": [],
   "source": [
    "merged_row_df = mergeDfRows(df_new_rows, threshold = 5)\n",
    "merged_row_df"
   ]
  },
  {
   "cell_type": "markdown",
   "metadata": {
    "application/vnd.databricks.v1+cell": {
     "cellMetadata": {},
     "inputWidgets": {},
     "nuid": "334cfcf2-2ad2-400e-8e2d-a783f6c0fe27",
     "showTitle": false,
     "title": ""
    }
   },
   "source": [
    "# Clean the `dataframe`"
   ]
  },
  {
   "cell_type": "markdown",
   "metadata": {
    "application/vnd.databricks.v1+cell": {
     "cellMetadata": {},
     "inputWidgets": {},
     "nuid": "445e0788-05a2-485a-b80f-c9b3d259bdda",
     "showTitle": false,
     "title": ""
    }
   },
   "source": [
    "Removes all the column and rows that have the following:\n",
    " - only empty cells\n",
    " - all cells holds the same value and its length is 0 or 1\n",
    " - cells have empty values or the symbol '|' only"
   ]
  },
  {
   "cell_type": "code",
   "execution_count": null,
   "metadata": {
    "application/vnd.databricks.v1+cell": {
     "cellMetadata": {},
     "inputWidgets": {},
     "nuid": "f6dcf83f-fb1e-48b2-90a1-0b0cfa8c4363",
     "showTitle": false,
     "title": ""
    }
   },
   "outputs": [],
   "source": [
    "def cleanDf(df):\n",
    "    # Remove columns with all cells holding the same value and its length is 0 or 1\n",
    "    df = df.loc[:, (df != df.iloc[0]).any()]\n",
    "    # Remove rows with empty cells or cells with only the '|' symbol\n",
    "    df = df[(df != '|') & (df != '=') & (df != '') & (pd.notnull(df))]\n",
    "    # Remove columns with only empty cells\n",
    "    df = df.dropna(axis=1, how='all')\n",
    "    return df.fillna('')"
   ]
  },
  {
   "cell_type": "code",
   "execution_count": null,
   "metadata": {
    "application/vnd.databricks.v1+cell": {
     "cellMetadata": {},
     "inputWidgets": {},
     "nuid": "4c7ffa46-4b6f-40ec-a870-afc16d8b3bdd",
     "showTitle": false,
     "title": ""
    }
   },
   "outputs": [],
   "source": [
    "cleaned_df = cleanDf(merged_row_df.copy())"
   ]
  },
  {
   "cell_type": "code",
   "execution_count": null,
   "metadata": {
    "application/vnd.databricks.v1+cell": {
     "cellMetadata": {},
     "inputWidgets": {},
     "nuid": "c27d073d-43b7-4fbc-b940-83ca0e5fbe09",
     "showTitle": false,
     "title": ""
    }
   },
   "outputs": [],
   "source": [
    "cleaned_df"
   ]
  },
  {
   "cell_type": "code",
   "execution_count": null,
   "metadata": {
    "application/vnd.databricks.v1+cell": {
     "cellMetadata": {},
     "inputWidgets": {},
     "nuid": "a4c0e775-fa36-49b6-9710-05585f398b86",
     "showTitle": false,
     "title": ""
    }
   },
   "outputs": [],
   "source": [
    "ddd = spark.createDataFrame(cleaned_df)\n",
    "display(ddd)"
   ]
  },
  {
   "cell_type": "markdown",
   "metadata": {
    "application/vnd.databricks.v1+cell": {
     "cellMetadata": {},
     "inputWidgets": {},
     "nuid": "7be36ffe-9dd5-49b0-8b7b-5771fcbbf26c",
     "showTitle": false,
     "title": ""
    }
   },
   "source": [
    "# End Result"
   ]
  },
  {
   "cell_type": "code",
   "execution_count": null,
   "metadata": {
    "application/vnd.databricks.v1+cell": {
     "cellMetadata": {},
     "inputWidgets": {},
     "nuid": "ecdbeda1-3f67-447a-9fe0-8768573df0df",
     "showTitle": false,
     "title": ""
    }
   },
   "outputs": [],
   "source": [
    "final = cleaned_df.copy()"
   ]
  },
  {
   "cell_type": "code",
   "execution_count": null,
   "metadata": {
    "application/vnd.databricks.v1+cell": {
     "cellMetadata": {},
     "inputWidgets": {},
     "nuid": "da750ca2-0a0c-43e2-9748-ed651adb4bda",
     "showTitle": false,
     "title": ""
    }
   },
   "outputs": [],
   "source": [
    "final # --psm 12 --oem 1"
   ]
  },
  {
   "cell_type": "code",
   "execution_count": null,
   "metadata": {},
   "outputs": [],
   "source": [
    "final # --psm 12 --oem 2"
   ]
  }
 ],
 "metadata": {
  "application/vnd.databricks.v1+notebook": {
   "dashboards": [],
   "language": "python",
   "notebookMetadata": {
    "pythonIndentUnit": 2
   },
   "notebookName": "ExtractTextFromImage",
   "notebookOrigID": 2104314535120016,
   "widgets": {}
  },
  "kernelspec": {
   "display_name": "Python 3",
   "language": "python",
   "name": "python3"
  },
  "language_info": {
   "name": "python",
   "version": "3.9.7"
  },
  "vscode": {
   "interpreter": {
    "hash": "92cc54a05d1ad6fd73bb4b9111dd84f41a66497e622f98d2a5bcc9478314e882"
   }
  }
 },
 "nbformat": 4,
 "nbformat_minor": 0
}
