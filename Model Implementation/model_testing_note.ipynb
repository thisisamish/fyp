{
 "cells": [
  {
   "cell_type": "code",
   "execution_count": null,
   "metadata": {},
   "outputs": [],
   "source": [
    "import cv2\n",
    "import torch\n",
    "import pytesseract\n",
    "import numpy as np\n",
    "import albumentations as A\n",
    "import matplotlib.pyplot as plt\n",
    "from PIL import Image\n",
    "from datetime import datetime\n",
    "from albumentations.pytorch import ToTensorV2\n",
    "from Training.configurations import MODEL_NAME\n",
    "from Training.tablenet_model import TableNet\n",
    "from Training.path_constants import PREDICTIONS, MODELS, TEST_IMAGES"
   ]
  },
  {
   "cell_type": "code",
   "execution_count": null,
   "metadata": {},
   "outputs": [],
   "source": [
    "TRANSFORM = A.Compose([\n",
    "    A.Normalize(\n",
    "        mean=[0.485, 0.456, 0.406],\n",
    "        std=[0.229, 0.224, 0.225],\n",
    "        max_pixel_value = 255,\n",
    "    ),\n",
    "    ToTensorV2()\n",
    "])"
   ]
  },
  {
   "cell_type": "code",
   "execution_count": null,
   "metadata": {},
   "outputs": [],
   "source": [
    "def display_prediction(img, table = None, table_image = None, no_: bool = False):\n",
    "  if no_:\n",
    "    f1, ax  = plt.subplots(1, 1, figsize = (7, 5))\n",
    "    ax.imshow(img)\n",
    "    ax.set_title('Original Image')\n",
    "    f1.suptitle('No Tables Detected')\n",
    "  else:\n",
    "    f2, ax  = plt.subplots(1, 3, figsize = (15, 8))\n",
    "    ax[0].imshow(img)\n",
    "    ax[0].set_title('Original Image')\n",
    "    ax[1].imshow(table)\n",
    "    ax[1].set_title('Image with Predicted Table')\n",
    "    ax[2].imshow(table_image)\n",
    "    ax[2].set_title('Predicted Table Example')\n",
    "  plt.show()"
   ]
  },
  {
   "cell_type": "code",
   "execution_count": null,
   "metadata": {},
   "outputs": [],
   "source": [
    "model_path = f\"{MODELS}/{MODEL_NAME}\"\n",
    "print(model_path)\n",
    "model = TableNet(encoder = 'densenet', use_pretrained_model = True, basemodel_requires_grad = True)\n",
    "model.eval()\n",
    "# Load checkpoint\n",
    "if torch.cuda.is_available():\n",
    "    model.load_state_dict(torch.load(model_path)['state_dict'])\n",
    "else:\n",
    "    model.load_state_dict(torch.load(model_path, map_location=torch.device('cpu'))['state_dict'])"
   ]
  },
  {
   "cell_type": "code",
   "execution_count": null,
   "metadata": {},
   "outputs": [],
   "source": [
    "# Final prediction function, using the mask fixing method too\n",
    "def predict(img_path):\n",
    "    orig_image = Image.open(img_path).resize((1024, 1024))\n",
    "    test_img = np.array(orig_image.convert('LA').convert(\"RGB\"))\n",
    "    now = datetime.now()\n",
    "    image = TRANSFORM(image = test_img)[\"image\"]\n",
    "    with torch.no_grad():\n",
    "        image = image.unsqueeze(0)\n",
    "        table_out, _  = model(image)\n",
    "        table_out = torch.sigmoid(table_out)\n",
    "    # Remove gradients\n",
    "    table_out = (table_out.detach().numpy().squeeze(0).transpose(1, 2, 0) > 0.5).astype(np.uint8)\n",
    "    # Get contours of the mask to get number of tables\n",
    "    contours, table_heirarchy = cv2.findContours(table_out, cv2.RETR_EXTERNAL, cv2.CHAIN_APPROX_NONE)\n",
    "    table_contours = []\n",
    "    # Ref: https://www.pyimagesearch.com/2015/02/09/removing-contours-image-using-python-opencv/\n",
    "    # Remove bad contours\n",
    "    for c in contours:\n",
    "        if cv2.contourArea(c) > 3000:\n",
    "            table_contours.append(c)\n",
    "    if len(table_contours) == 0:\n",
    "        print(\"No Table detected\")\n",
    "    table_boundRect = [None] * len(table_contours)\n",
    "    for i, c in enumerate(table_contours):\n",
    "        polygon = cv2.approxPolyDP(c, 3, True)\n",
    "        table_boundRect[i] = cv2.boundingRect(polygon)\n",
    "    # Table bounding Box\n",
    "    table_boundRect.sort()\n",
    "    orig_image = np.array(orig_image)\n",
    "    # Draw bounding boxes\n",
    "    color = (0, 0, 255)\n",
    "    thickness = 4\n",
    "    for x,y,w,h in table_boundRect:\n",
    "        cv2.rectangle(orig_image, (x , y), (x + w, y + h), color, thickness)\n",
    "    # Show Original image with the table bordered extra\n",
    "    plt.figure(figsize = (10, 5))\n",
    "    plt.imshow(orig_image)\n",
    "    end_time = datetime.now()\n",
    "    difference = end_time - now\n",
    "    time = \"{}\".format(difference)\n",
    "    print(f\"Time Taken on cpu: {time} secs\")\n",
    "    print(\"Predicted Tables\")\n",
    "    image = test_img[...,0].reshape(1024, 1024).astype(np.uint8)\n",
    "    for i, (x, y, w, h) in enumerate(table_boundRect):\n",
    "        image_crop = image[y : y + h, x : x + w]\n",
    "        # Show only the table\n",
    "        plt.figure(figsize = (7.5, 5))\n",
    "        plt.imshow(image_crop)\n",
    "        cv2.imwrite(f\"/{PREDICTIONS}/image_crop.png\", image_crop)\n",
    "        data = pytesseract.image_to_string(image_crop)"
   ]
  },
  {
   "cell_type": "code",
   "execution_count": null,
   "metadata": {},
   "outputs": [],
   "source": [
    "_image_path = f'{TEST_IMAGES}/10.1.1.160.563_6.jpg'\n",
    "print(_image_path)\n",
    "df = predict(img_path = _image_path)\n",
    "df"
   ]
  },
  {
   "cell_type": "code",
   "execution_count": null,
   "metadata": {},
   "outputs": [],
   "source": [
    "import seaborn as sns\n",
    "import matplotlib.pyplot as plt\n",
    "\n",
    "df = sns.load_dataset(\"penguins\")\n",
    "sns.jointplot(data=df, x=\"flipper_length_mm\", y=\"bill_length_mm\", hue=\"species\")\n",
    "plt.show()"
   ]
  },
  {
   "cell_type": "code",
   "execution_count": null,
   "metadata": {},
   "outputs": [],
   "source": []
  }
 ],
 "metadata": {
  "kernelspec": {
   "display_name": "Python 3",
   "language": "python",
   "name": "python3"
  },
  "language_info": {
   "codemirror_mode": {
    "name": "ipython",
    "version": 3
   },
   "file_extension": ".py",
   "mimetype": "text/x-python",
   "name": "python",
   "nbconvert_exporter": "python",
   "pygments_lexer": "ipython3",
   "version": "3.9.7"
  },
  "vscode": {
   "interpreter": {
    "hash": "92cc54a05d1ad6fd73bb4b9111dd84f41a66497e622f98d2a5bcc9478314e882"
   }
  }
 },
 "nbformat": 4,
 "nbformat_minor": 2
}
